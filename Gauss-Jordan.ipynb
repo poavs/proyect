{
 "cells": [
  {
   "cell_type": "code",
   "execution_count": 1,
   "id": "cfe21d77-de0b-4f51-8086-5ac925f13021",
   "metadata": {},
   "outputs": [
    {
     "name": "stdout",
     "output_type": "stream",
     "text": [
      "Solución: x = 3.0000, y = -2.5000, z = 7.0000\n"
     ]
    }
   ],
   "source": [
    "import numpy as np\n",
    "\n",
    "def gauss_jordan(A, b):\n",
    "    n = len(b)\n",
    "    # Matriz aumentada\n",
    "    M = np.hstack([A, b.reshape(-1, 1)])\n",
    "    \n",
    "    for col in range(n):\n",
    "        # Pivoteo parcial\n",
    "        max_row = np.argmax(np.abs(M[col:, col])) + col\n",
    "        M[[col, max_row]] = M[[max_row, col]]\n",
    "        \n",
    "        # Hacer 1 el elemento diagonal\n",
    "        M[col] = M[col] / M[col, col]\n",
    "        \n",
    "        # Hacer 0 los otros elementos de la columna\n",
    "        for row in range(n):\n",
    "            if row != col:\n",
    "                M[row] = M[row] - M[row, col] * M[col]\n",
    "    \n",
    "    return M[:, -1]\n",
    "\n",
    "# Definimos el sistema\n",
    "A = np.array([[3, -0.1, -0.2],\n",
    "              [0.1, 7, -0.3],\n",
    "              [0.3, -0.2, 10]], dtype=float)\n",
    "b = np.array([7.85, -19.3, 71.4], dtype=float)\n",
    "\n",
    "# Resolvemos\n",
    "x = gauss_jordan(A, b)\n",
    "\n",
    "print(f\"Solución: x = {x[0]:.4f}, y = {x[1]:.4f}, z = {x[2]:.4f}\")"
   ]
  },
  {
   "cell_type": "code",
   "execution_count": null,
   "id": "794bc409-3142-4cd3-915c-1f45457ff08e",
   "metadata": {},
   "outputs": [],
   "source": []
  }
 ],
 "metadata": {
  "kernelspec": {
   "display_name": "Python 3 (ipykernel)",
   "language": "python",
   "name": "python3"
  },
  "language_info": {
   "codemirror_mode": {
    "name": "ipython",
    "version": 3
   },
   "file_extension": ".py",
   "mimetype": "text/x-python",
   "name": "python",
   "nbconvert_exporter": "python",
   "pygments_lexer": "ipython3",
   "version": "3.12.0"
  }
 },
 "nbformat": 4,
 "nbformat_minor": 5
}
