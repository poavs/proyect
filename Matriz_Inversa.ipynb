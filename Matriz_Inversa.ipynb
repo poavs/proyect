{
 "cells": [
  {
   "cell_type": "code",
   "execution_count": 1,
   "id": "7b5f6c8f-5506-41d4-bc3d-a791549e8eed",
   "metadata": {},
   "outputs": [
    {
     "name": "stdout",
     "output_type": "stream",
     "text": [
      "Determinante de A: -1.00\n",
      "\n",
      "Solución del sistema:\n",
      "x = 2.00\n",
      "y = 3.00\n",
      "z = -1.00\n"
     ]
    }
   ],
   "source": [
    "import numpy as np\n",
    "\n",
    "# Matriz A (coeficientes)\n",
    "A = np.array([[2, 1, -1],\n",
    "              [-3, -1, 2],\n",
    "              [-2, 1, 2]])\n",
    "\n",
    "# Vector B (resultados)\n",
    "B = np.array([[8], [-11], [-3]])\n",
    "\n",
    "# Verificar si la matriz A es invertible\n",
    "det_A = np.linalg.det(A)\n",
    "print(f\"Determinante de A: {det_A:.2f}\")\n",
    "if det_A == 0:\n",
    "    print(\"La matriz no es invertible.\")\n",
    "else:\n",
    "    # Calcular la inversa de A\n",
    "    A_inv = np.linalg.inv(A)\n",
    "\n",
    "    # Multiplicar A⁻¹ * B para obtener X\n",
    "    X = np.dot(A_inv, B)\n",
    "\n",
    "    # Mostrar la solución\n",
    "    print(\"\\nSolución del sistema:\")\n",
    "    variables = ['x', 'y', 'z']\n",
    "    for i in range(3):\n",
    "        print(f\"{variables[i]} = {X[i][0]:.2f}\")\n"
   ]
  },
  {
   "cell_type": "code",
   "execution_count": null,
   "id": "5a725532-8288-4a08-98fd-29cbfd8ff83a",
   "metadata": {},
   "outputs": [],
   "source": []
  }
 ],
 "metadata": {
  "kernelspec": {
   "display_name": "Python 3 (ipykernel)",
   "language": "python",
   "name": "python3"
  },
  "language_info": {
   "codemirror_mode": {
    "name": "ipython",
    "version": 3
   },
   "file_extension": ".py",
   "mimetype": "text/x-python",
   "name": "python",
   "nbconvert_exporter": "python",
   "pygments_lexer": "ipython3",
   "version": "3.12.0"

  }
 },
 "nbformat": 4,
 "nbformat_minor": 5
}
