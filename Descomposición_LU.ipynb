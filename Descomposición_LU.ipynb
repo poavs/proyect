{
 "cells": [
  {
   "cell_type": "code",
   "execution_count": 5,
   "id": "e956c0c6-c7c0-490c-80f9-1209acb86db7",
   "metadata": {},
   "outputs": [
    {
     "name": "stdout",
     "output_type": "stream",
     "text": [
      "Solución: x = 7.00, y = -7.00, z = 5.00\n"
     ]
    }
   ],
   "source": [
    "\n",
    "import numpy as np\n",
    "\n",
    "# Definimos el sistema CON TIPO DE DATO FLOAT\n",
    "A = np.array([[1.0, 2.0, 3.0],# <-- Agregamos .0 para forzar float\n",
    "              [4.0, 5.0, 6.0],\n",
    "              [3.0, 1.0, -2.0]])\n",
    "b = np.array([8.0, 23.0, 4.0])  # <-- También float\n",
    "# Factorización LU usando NumPy\n",
    "def lu_descomposition(A):\n",
    "    n = len(A)\n",
    "    L = np.eye(n, dtype=float)  # Matriz identidad como float\n",
    "    U = A.astype(float)         # Forzamos tipo float\n",
    "    for k in range(n-1):\n",
    "        for i in range(k+1, n):\n",
    "            if U[k, k] == 0:\n",
    "                raise ValueError(\"División por cero. Pivoteo necesario.\")\n",
    "            L[i, k] = U[i, k] / U[k, k]\n",
    "            U[i, k:] -= L[i, k] * U[k, k:]\n",
    "    return L, U\n",
    "\n",
    "# Resolución del sistema LUx = b\n",
    "def lu_solve(L, U, b):\n",
    "    n = len(b)\n",
    "    y = np.zeros(n, dtype=float)  # float\n",
    "    x = np.zeros(n, dtype=float)  # float\n",
    "    \n",
    "    # Sustitución hacia adelante (Ly = b)\n",
    "    for i in range(n):\n",
    "        y[i] = b[i] - np.dot(L[i, :i], y[:i])\n",
    "    \n",
    "    # Sustitución hacia atrás (Ux = y)\n",
    "    for i in range(n-1, -1, -1):\n",
    "        x[i] = (y[i] - np.dot(U[i, i+1:], x[i+1:])) / U[i, i]\n",
    "    return x\n",
    "\n",
    "# Aplicamos la factorización\n",
    "L, U = lu_descomposition(A)\n",
    "x = lu_solve(L, U, b)\n",
    "\n",
    "print(f\"Solución: x = {x[0]:.2f}, y = {x[1]:.2f}, z = {x[2]:.2f}\")"
   ]
  },
  {
   "cell_type": "code",
   "execution_count": null,
   "id": "dd73cf81-d109-445a-89d4-ead874357cee",
   "metadata": {},
   "outputs": [],
   "source": [
    "\n",
    "\n"
   ]
  },
  {
   "cell_type": "code",
   "execution_count": null,
   "id": "073220a4-d52b-4f80-922d-d56a908946ac",
   "metadata": {},
   "outputs": [],
   "source": []
  }
 ],
 "metadata": {
  "kernelspec": {
   "display_name": "Python 3 (ipykernel)",
   "language": "python",
   "name": "python3"
  },
  "language_info": {
   "codemirror_mode": {
    "name": "ipython",
    "version": 3
   },
   "file_extension": ".py",
   "mimetype": "text/x-python",
   "name": "python",
   "nbconvert_exporter": "python",
   "pygments_lexer": "ipython3",
   "version": "3.12.0"

  }
 },
 "nbformat": 4,
 "nbformat_minor": 5
}
